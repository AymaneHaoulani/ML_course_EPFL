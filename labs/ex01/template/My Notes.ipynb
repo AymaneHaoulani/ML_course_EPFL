{
 "cells": [
  {
   "cell_type": "markdown",
   "metadata": {},
   "source": [
    "Week 1 Notes"
   ]
  },
  {
   "cell_type": "markdown",
   "metadata": {},
   "source": [
    "# Mean value of each column \n",
    "np.mean(data, axis=0)\n",
    "\n",
    "# Mean value of each row\n",
    "np.mean(data, axis=-1)\n",
    "\n",
    "# Standardize\n",
    "np.std(data, axis=0 or -1)"
   ]
  },
  {
   "cell_type": "markdown",
   "metadata": {},
   "source": [
    "# New axis \n",
    "This method is usually used when trying to broadcast matrices having non compatible sizes.\n",
    "It allows for instance to view 2d matrices as 3d.\n",
    "In the distance calculation example, the aim is to compare each point from P (shape = (p,2)) to another in Q (shape = (q,2)).\n",
    "Here, we can do nothing with our matrices as they are. The adequate thing to do is:\n",
    "* View P as a column of p points. (<=> (p,1,2))\n",
    "* View Q as a row of q points. (<=> (1,q,2))\n",
    "After substraction and **2, the result has a shape of (p,q,2) (2 because of the two coordinates)\n",
    "Now we need to sum the difference in x and y. That's why we'll set axis=2 (3rd axis) in the sum method"
   ]
  },
  {
   "cell_type": "markdown",
   "metadata": {},
   "source": [
    "i,j = np.indices((a,b)) gives the possible values for i and j so that they can match each other. Consider it as a method that returns the values that i and j take in a double loop : \n",
    "    for i in range(a):\n",
    "        for j in range(b):\n",
    "\n",
    "We use i.ravel() and j.ravel() to flatten the result so that it can be applied to the indices.\n",
    "This is particularly useful if you want to parallelize double loops."
   ]
  },
  {
   "cell_type": "markdown",
   "metadata": {},
   "source": [
    "Pay attention ! The operation t(X_i-mu)*Sigma^-1*(X_i-mu) needs to be performed for each point i and not for the global data matrix X "
   ]
  }
 ],
 "metadata": {
  "language_info": {
   "name": "python"
  }
 },
 "nbformat": 4,
 "nbformat_minor": 2
}
